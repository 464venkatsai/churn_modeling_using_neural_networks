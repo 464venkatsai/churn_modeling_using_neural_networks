{
 "cells": [
  {
   "cell_type": "code",
   "execution_count": 1,
   "id": "51dccdb5",
   "metadata": {},
   "outputs": [],
   "source": [
    "import numpy as np\n",
    "import pandas as pd\n",
    "import matplotlib.pyplot as plt \n",
    "import seaborn as sns"
   ]
  },
  {
   "cell_type": "code",
   "execution_count": 2,
   "id": "8ca3cbd0",
   "metadata": {},
   "outputs": [],
   "source": [
    "data = pd.read_csv('Churn_Modelling.csv')"
   ]
  },
  {
   "cell_type": "code",
   "execution_count": 3,
   "id": "68bdda51",
   "metadata": {},
   "outputs": [
    {
     "data": {
      "text/html": [
       "<div>\n",
       "<style scoped>\n",
       "    .dataframe tbody tr th:only-of-type {\n",
       "        vertical-align: middle;\n",
       "    }\n",
       "\n",
       "    .dataframe tbody tr th {\n",
       "        vertical-align: top;\n",
       "    }\n",
       "\n",
       "    .dataframe thead th {\n",
       "        text-align: right;\n",
       "    }\n",
       "</style>\n",
       "<table border=\"1\" class=\"dataframe\">\n",
       "  <thead>\n",
       "    <tr style=\"text-align: right;\">\n",
       "      <th></th>\n",
       "      <th>RowNumber</th>\n",
       "      <th>CustomerId</th>\n",
       "      <th>Surname</th>\n",
       "      <th>CreditScore</th>\n",
       "      <th>Geography</th>\n",
       "      <th>Gender</th>\n",
       "      <th>Age</th>\n",
       "      <th>Tenure</th>\n",
       "      <th>Balance</th>\n",
       "      <th>NumOfProducts</th>\n",
       "      <th>HasCrCard</th>\n",
       "      <th>IsActiveMember</th>\n",
       "      <th>EstimatedSalary</th>\n",
       "      <th>Exited</th>\n",
       "    </tr>\n",
       "  </thead>\n",
       "  <tbody>\n",
       "    <tr>\n",
       "      <th>0</th>\n",
       "      <td>1</td>\n",
       "      <td>15634602</td>\n",
       "      <td>Hargrave</td>\n",
       "      <td>619</td>\n",
       "      <td>France</td>\n",
       "      <td>Female</td>\n",
       "      <td>42</td>\n",
       "      <td>2</td>\n",
       "      <td>0.00</td>\n",
       "      <td>1</td>\n",
       "      <td>1</td>\n",
       "      <td>1</td>\n",
       "      <td>101348.88</td>\n",
       "      <td>1</td>\n",
       "    </tr>\n",
       "    <tr>\n",
       "      <th>1</th>\n",
       "      <td>2</td>\n",
       "      <td>15647311</td>\n",
       "      <td>Hill</td>\n",
       "      <td>608</td>\n",
       "      <td>Spain</td>\n",
       "      <td>Female</td>\n",
       "      <td>41</td>\n",
       "      <td>1</td>\n",
       "      <td>83807.86</td>\n",
       "      <td>1</td>\n",
       "      <td>0</td>\n",
       "      <td>1</td>\n",
       "      <td>112542.58</td>\n",
       "      <td>0</td>\n",
       "    </tr>\n",
       "    <tr>\n",
       "      <th>2</th>\n",
       "      <td>3</td>\n",
       "      <td>15619304</td>\n",
       "      <td>Onio</td>\n",
       "      <td>502</td>\n",
       "      <td>France</td>\n",
       "      <td>Female</td>\n",
       "      <td>42</td>\n",
       "      <td>8</td>\n",
       "      <td>159660.80</td>\n",
       "      <td>3</td>\n",
       "      <td>1</td>\n",
       "      <td>0</td>\n",
       "      <td>113931.57</td>\n",
       "      <td>1</td>\n",
       "    </tr>\n",
       "    <tr>\n",
       "      <th>3</th>\n",
       "      <td>4</td>\n",
       "      <td>15701354</td>\n",
       "      <td>Boni</td>\n",
       "      <td>699</td>\n",
       "      <td>France</td>\n",
       "      <td>Female</td>\n",
       "      <td>39</td>\n",
       "      <td>1</td>\n",
       "      <td>0.00</td>\n",
       "      <td>2</td>\n",
       "      <td>0</td>\n",
       "      <td>0</td>\n",
       "      <td>93826.63</td>\n",
       "      <td>0</td>\n",
       "    </tr>\n",
       "    <tr>\n",
       "      <th>4</th>\n",
       "      <td>5</td>\n",
       "      <td>15737888</td>\n",
       "      <td>Mitchell</td>\n",
       "      <td>850</td>\n",
       "      <td>Spain</td>\n",
       "      <td>Female</td>\n",
       "      <td>43</td>\n",
       "      <td>2</td>\n",
       "      <td>125510.82</td>\n",
       "      <td>1</td>\n",
       "      <td>1</td>\n",
       "      <td>1</td>\n",
       "      <td>79084.10</td>\n",
       "      <td>0</td>\n",
       "    </tr>\n",
       "  </tbody>\n",
       "</table>\n",
       "</div>"
      ],
      "text/plain": [
       "   RowNumber  CustomerId   Surname  CreditScore Geography  Gender  Age  \\\n",
       "0          1    15634602  Hargrave          619    France  Female   42   \n",
       "1          2    15647311      Hill          608     Spain  Female   41   \n",
       "2          3    15619304      Onio          502    France  Female   42   \n",
       "3          4    15701354      Boni          699    France  Female   39   \n",
       "4          5    15737888  Mitchell          850     Spain  Female   43   \n",
       "\n",
       "   Tenure    Balance  NumOfProducts  HasCrCard  IsActiveMember  \\\n",
       "0       2       0.00              1          1               1   \n",
       "1       1   83807.86              1          0               1   \n",
       "2       8  159660.80              3          1               0   \n",
       "3       1       0.00              2          0               0   \n",
       "4       2  125510.82              1          1               1   \n",
       "\n",
       "   EstimatedSalary  Exited  \n",
       "0        101348.88       1  \n",
       "1        112542.58       0  \n",
       "2        113931.57       1  \n",
       "3         93826.63       0  \n",
       "4         79084.10       0  "
      ]
     },
     "execution_count": 3,
     "metadata": {},
     "output_type": "execute_result"
    }
   ],
   "source": [
    "data.head()"
   ]
  },
  {
   "cell_type": "code",
   "execution_count": 4,
   "id": "dbe56470",
   "metadata": {},
   "outputs": [
    {
     "name": "stdout",
     "output_type": "stream",
     "text": [
      "<class 'pandas.core.frame.DataFrame'>\n",
      "RangeIndex: 10000 entries, 0 to 9999\n",
      "Data columns (total 14 columns):\n",
      " #   Column           Non-Null Count  Dtype  \n",
      "---  ------           --------------  -----  \n",
      " 0   RowNumber        10000 non-null  int64  \n",
      " 1   CustomerId       10000 non-null  int64  \n",
      " 2   Surname          10000 non-null  object \n",
      " 3   CreditScore      10000 non-null  int64  \n",
      " 4   Geography        10000 non-null  object \n",
      " 5   Gender           10000 non-null  object \n",
      " 6   Age              10000 non-null  int64  \n",
      " 7   Tenure           10000 non-null  int64  \n",
      " 8   Balance          10000 non-null  float64\n",
      " 9   NumOfProducts    10000 non-null  int64  \n",
      " 10  HasCrCard        10000 non-null  int64  \n",
      " 11  IsActiveMember   10000 non-null  int64  \n",
      " 12  EstimatedSalary  10000 non-null  float64\n",
      " 13  Exited           10000 non-null  int64  \n",
      "dtypes: float64(2), int64(9), object(3)\n",
      "memory usage: 1.1+ MB\n"
     ]
    }
   ],
   "source": [
    "data.info()"
   ]
  },
  {
   "cell_type": "code",
   "execution_count": 5,
   "id": "bd174ca7",
   "metadata": {},
   "outputs": [
    {
     "data": {
      "text/plain": [
       "RowNumber          0\n",
       "CustomerId         0\n",
       "Surname            0\n",
       "CreditScore        0\n",
       "Geography          0\n",
       "Gender             0\n",
       "Age                0\n",
       "Tenure             0\n",
       "Balance            0\n",
       "NumOfProducts      0\n",
       "HasCrCard          0\n",
       "IsActiveMember     0\n",
       "EstimatedSalary    0\n",
       "Exited             0\n",
       "dtype: int64"
      ]
     },
     "execution_count": 5,
     "metadata": {},
     "output_type": "execute_result"
    }
   ],
   "source": [
    "data.isna().sum()"
   ]
  },
  {
   "cell_type": "code",
   "execution_count": 6,
   "id": "4ac1a2b9",
   "metadata": {},
   "outputs": [
    {
     "data": {
      "text/html": [
       "<div>\n",
       "<style scoped>\n",
       "    .dataframe tbody tr th:only-of-type {\n",
       "        vertical-align: middle;\n",
       "    }\n",
       "\n",
       "    .dataframe tbody tr th {\n",
       "        vertical-align: top;\n",
       "    }\n",
       "\n",
       "    .dataframe thead th {\n",
       "        text-align: right;\n",
       "    }\n",
       "</style>\n",
       "<table border=\"1\" class=\"dataframe\">\n",
       "  <thead>\n",
       "    <tr style=\"text-align: right;\">\n",
       "      <th></th>\n",
       "      <th>Germany</th>\n",
       "      <th>Spain</th>\n",
       "    </tr>\n",
       "  </thead>\n",
       "  <tbody>\n",
       "    <tr>\n",
       "      <th>0</th>\n",
       "      <td>0</td>\n",
       "      <td>0</td>\n",
       "    </tr>\n",
       "    <tr>\n",
       "      <th>1</th>\n",
       "      <td>0</td>\n",
       "      <td>1</td>\n",
       "    </tr>\n",
       "    <tr>\n",
       "      <th>2</th>\n",
       "      <td>0</td>\n",
       "      <td>0</td>\n",
       "    </tr>\n",
       "    <tr>\n",
       "      <th>3</th>\n",
       "      <td>0</td>\n",
       "      <td>0</td>\n",
       "    </tr>\n",
       "    <tr>\n",
       "      <th>4</th>\n",
       "      <td>0</td>\n",
       "      <td>1</td>\n",
       "    </tr>\n",
       "    <tr>\n",
       "      <th>...</th>\n",
       "      <td>...</td>\n",
       "      <td>...</td>\n",
       "    </tr>\n",
       "    <tr>\n",
       "      <th>9995</th>\n",
       "      <td>0</td>\n",
       "      <td>0</td>\n",
       "    </tr>\n",
       "    <tr>\n",
       "      <th>9996</th>\n",
       "      <td>0</td>\n",
       "      <td>0</td>\n",
       "    </tr>\n",
       "    <tr>\n",
       "      <th>9997</th>\n",
       "      <td>0</td>\n",
       "      <td>0</td>\n",
       "    </tr>\n",
       "    <tr>\n",
       "      <th>9998</th>\n",
       "      <td>1</td>\n",
       "      <td>0</td>\n",
       "    </tr>\n",
       "    <tr>\n",
       "      <th>9999</th>\n",
       "      <td>0</td>\n",
       "      <td>0</td>\n",
       "    </tr>\n",
       "  </tbody>\n",
       "</table>\n",
       "<p>10000 rows × 2 columns</p>\n",
       "</div>"
      ],
      "text/plain": [
       "      Germany  Spain\n",
       "0           0      0\n",
       "1           0      1\n",
       "2           0      0\n",
       "3           0      0\n",
       "4           0      1\n",
       "...       ...    ...\n",
       "9995        0      0\n",
       "9996        0      0\n",
       "9997        0      0\n",
       "9998        1      0\n",
       "9999        0      0\n",
       "\n",
       "[10000 rows x 2 columns]"
      ]
     },
     "execution_count": 6,
     "metadata": {},
     "output_type": "execute_result"
    }
   ],
   "source": [
    "geography = pd.get_dummies(data['Geography'],drop_first=True)\n",
    "gender = pd.get_dummies(data['Gender'],drop_first=True)\n",
    "geography"
   ]
  },
  {
   "cell_type": "code",
   "execution_count": 7,
   "id": "d0ab6eac",
   "metadata": {},
   "outputs": [],
   "source": [
    "data = pd.concat([data,geography,gender],axis=1)"
   ]
  },
  {
   "cell_type": "code",
   "execution_count": 8,
   "id": "17a03c31",
   "metadata": {},
   "outputs": [
    {
     "data": {
      "text/plain": [
       "RowNumber          0\n",
       "CustomerId         0\n",
       "Surname            0\n",
       "CreditScore        0\n",
       "Geography          0\n",
       "Gender             0\n",
       "Age                0\n",
       "Tenure             0\n",
       "Balance            0\n",
       "NumOfProducts      0\n",
       "HasCrCard          0\n",
       "IsActiveMember     0\n",
       "EstimatedSalary    0\n",
       "Exited             0\n",
       "Germany            0\n",
       "Spain              0\n",
       "Male               0\n",
       "dtype: int64"
      ]
     },
     "execution_count": 8,
     "metadata": {},
     "output_type": "execute_result"
    }
   ],
   "source": [
    "data.isna().sum()"
   ]
  },
  {
   "cell_type": "code",
   "execution_count": 9,
   "id": "2b30f7de",
   "metadata": {},
   "outputs": [
    {
     "data": {
      "text/html": [
       "<div>\n",
       "<style scoped>\n",
       "    .dataframe tbody tr th:only-of-type {\n",
       "        vertical-align: middle;\n",
       "    }\n",
       "\n",
       "    .dataframe tbody tr th {\n",
       "        vertical-align: top;\n",
       "    }\n",
       "\n",
       "    .dataframe thead th {\n",
       "        text-align: right;\n",
       "    }\n",
       "</style>\n",
       "<table border=\"1\" class=\"dataframe\">\n",
       "  <thead>\n",
       "    <tr style=\"text-align: right;\">\n",
       "      <th></th>\n",
       "      <th>CreditScore</th>\n",
       "      <th>Age</th>\n",
       "      <th>Tenure</th>\n",
       "      <th>Balance</th>\n",
       "      <th>NumOfProducts</th>\n",
       "      <th>HasCrCard</th>\n",
       "      <th>IsActiveMember</th>\n",
       "      <th>EstimatedSalary</th>\n",
       "      <th>Exited</th>\n",
       "      <th>Germany</th>\n",
       "      <th>Spain</th>\n",
       "      <th>Male</th>\n",
       "    </tr>\n",
       "  </thead>\n",
       "  <tbody>\n",
       "    <tr>\n",
       "      <th>0</th>\n",
       "      <td>619</td>\n",
       "      <td>42</td>\n",
       "      <td>2</td>\n",
       "      <td>0.00</td>\n",
       "      <td>1</td>\n",
       "      <td>1</td>\n",
       "      <td>1</td>\n",
       "      <td>101348.88</td>\n",
       "      <td>1</td>\n",
       "      <td>0</td>\n",
       "      <td>0</td>\n",
       "      <td>0</td>\n",
       "    </tr>\n",
       "    <tr>\n",
       "      <th>1</th>\n",
       "      <td>608</td>\n",
       "      <td>41</td>\n",
       "      <td>1</td>\n",
       "      <td>83807.86</td>\n",
       "      <td>1</td>\n",
       "      <td>0</td>\n",
       "      <td>1</td>\n",
       "      <td>112542.58</td>\n",
       "      <td>0</td>\n",
       "      <td>0</td>\n",
       "      <td>1</td>\n",
       "      <td>0</td>\n",
       "    </tr>\n",
       "    <tr>\n",
       "      <th>2</th>\n",
       "      <td>502</td>\n",
       "      <td>42</td>\n",
       "      <td>8</td>\n",
       "      <td>159660.80</td>\n",
       "      <td>3</td>\n",
       "      <td>1</td>\n",
       "      <td>0</td>\n",
       "      <td>113931.57</td>\n",
       "      <td>1</td>\n",
       "      <td>0</td>\n",
       "      <td>0</td>\n",
       "      <td>0</td>\n",
       "    </tr>\n",
       "    <tr>\n",
       "      <th>3</th>\n",
       "      <td>699</td>\n",
       "      <td>39</td>\n",
       "      <td>1</td>\n",
       "      <td>0.00</td>\n",
       "      <td>2</td>\n",
       "      <td>0</td>\n",
       "      <td>0</td>\n",
       "      <td>93826.63</td>\n",
       "      <td>0</td>\n",
       "      <td>0</td>\n",
       "      <td>0</td>\n",
       "      <td>0</td>\n",
       "    </tr>\n",
       "    <tr>\n",
       "      <th>4</th>\n",
       "      <td>850</td>\n",
       "      <td>43</td>\n",
       "      <td>2</td>\n",
       "      <td>125510.82</td>\n",
       "      <td>1</td>\n",
       "      <td>1</td>\n",
       "      <td>1</td>\n",
       "      <td>79084.10</td>\n",
       "      <td>0</td>\n",
       "      <td>0</td>\n",
       "      <td>1</td>\n",
       "      <td>0</td>\n",
       "    </tr>\n",
       "  </tbody>\n",
       "</table>\n",
       "</div>"
      ],
      "text/plain": [
       "   CreditScore  Age  Tenure    Balance  NumOfProducts  HasCrCard  \\\n",
       "0          619   42       2       0.00              1          1   \n",
       "1          608   41       1   83807.86              1          0   \n",
       "2          502   42       8  159660.80              3          1   \n",
       "3          699   39       1       0.00              2          0   \n",
       "4          850   43       2  125510.82              1          1   \n",
       "\n",
       "   IsActiveMember  EstimatedSalary  Exited  Germany  Spain  Male  \n",
       "0               1        101348.88       1        0      0     0  \n",
       "1               1        112542.58       0        0      1     0  \n",
       "2               0        113931.57       1        0      0     0  \n",
       "3               0         93826.63       0        0      0     0  \n",
       "4               1         79084.10       0        0      1     0  "
      ]
     },
     "execution_count": 9,
     "metadata": {},
     "output_type": "execute_result"
    }
   ],
   "source": [
    "cols = 'RowNumber,CustomerId,Surname,Geography,Gender'.split(',')\n",
    "data = data.drop(columns=cols)\n",
    "data.head()"
   ]
  },
  {
   "cell_type": "code",
   "execution_count": 10,
   "id": "bd1d1ff1",
   "metadata": {},
   "outputs": [],
   "source": [
    "features = data.drop(columns='Exited')\n",
    "label = data['Exited']"
   ]
  },
  {
   "cell_type": "code",
   "execution_count": 11,
   "id": "353ad68a",
   "metadata": {},
   "outputs": [],
   "source": [
    "from sklearn.model_selection import train_test_split\n",
    "x_train,x_test ,y_train,y_test = train_test_split(features,label,test_size=0.2,random_state=45)"
   ]
  },
  {
   "cell_type": "code",
   "execution_count": 12,
   "id": "0d65869e",
   "metadata": {},
   "outputs": [],
   "source": [
    "from sklearn.preprocessing import StandardScaler\n",
    "sc = StandardScaler()\n",
    "x_train = sc.fit_transform(x_train)\n",
    "x_test = sc.fit_transform(x_test)"
   ]
  },
  {
   "cell_type": "code",
   "execution_count": 13,
   "id": "25d5469f",
   "metadata": {},
   "outputs": [
    {
     "data": {
      "text/plain": [
       "array([[-0.54314547,  2.0207228 , -1.73524323, ..., -0.57812007,\n",
       "        -0.57330877, -1.10331088],\n",
       "       [-0.49161743, -0.66001103,  0.68725374, ...,  1.72974448,\n",
       "        -0.57330877,  0.90636285],\n",
       "       [ 1.01300132, -0.46853004, -0.00488825, ..., -0.57812007,\n",
       "        -0.57330877,  0.90636285],\n",
       "       ...,\n",
       "       [ 0.90994524, -1.23445399, -0.69703024, ..., -0.57812007,\n",
       "        -0.57330877, -1.10331088],\n",
       "       [ 0.37405363, -0.08556807, -1.73524323, ..., -0.57812007,\n",
       "        -0.57330877,  0.90636285],\n",
       "       [ 0.24008073,  0.29739391, -0.35095925, ..., -0.57812007,\n",
       "        -0.57330877, -1.10331088]])"
      ]
     },
     "execution_count": 13,
     "metadata": {},
     "output_type": "execute_result"
    }
   ],
   "source": [
    "x_train"
   ]
  },
  {
   "cell_type": "code",
   "execution_count": 14,
   "id": "c2c5b854",
   "metadata": {},
   "outputs": [
    {
     "data": {
      "text/plain": [
       "IsActiveMember    -0.156128\n",
       "Male              -0.106512\n",
       "Spain             -0.052667\n",
       "NumOfProducts     -0.047820\n",
       "CreditScore       -0.027094\n",
       "Tenure            -0.014001\n",
       "HasCrCard         -0.007138\n",
       "EstimatedSalary    0.012097\n",
       "Balance            0.118533\n",
       "Germany            0.173488\n",
       "Age                0.285323\n",
       "Exited             1.000000\n",
       "Name: Exited, dtype: float64"
      ]
     },
     "execution_count": 14,
     "metadata": {},
     "output_type": "execute_result"
    }
   ],
   "source": [
    "data.corr()['Exited'].sort_values(ascending=True)"
   ]
  },
  {
   "cell_type": "code",
   "execution_count": 15,
   "id": "2038abaa",
   "metadata": {},
   "outputs": [
    {
     "data": {
      "text/plain": [
       "0.814"
      ]
     },
     "execution_count": 15,
     "metadata": {},
     "output_type": "execute_result"
    }
   ],
   "source": [
    "from sklearn.linear_model import LogisticRegression \n",
    "from sklearn.metrics import mean_squared_error,accuracy_score\n",
    "model = LogisticRegression()\n",
    "model.fit(x_train,y_train)\n",
    "accuracy_score((model.predict(x_test)>0.5),y_test)"
   ]
  },
  {
   "cell_type": "code",
   "execution_count": 16,
   "id": "2add0962",
   "metadata": {},
   "outputs": [],
   "source": [
    "from sklearn.model_selection import cross_val_score\n",
    "a= cross_val_score(model,x_train,y_train,cv=3)"
   ]
  },
  {
   "cell_type": "code",
   "execution_count": 17,
   "id": "14abb34e",
   "metadata": {},
   "outputs": [
    {
     "data": {
      "text/plain": [
       "0.8095001346887153"
      ]
     },
     "execution_count": 17,
     "metadata": {},
     "output_type": "execute_result"
    }
   ],
   "source": [
    "a.mean()"
   ]
  },
  {
   "cell_type": "code",
   "execution_count": 18,
   "id": "050d00a2",
   "metadata": {},
   "outputs": [],
   "source": [
    "from tensorflow import keras\n",
    "from tensorflow.keras.models import Sequential\n",
    "from tensorflow.keras.layers import Dense\n",
    "from tensorflow.keras.layers import Dropout\n",
    "# from tensorflow.keras.layers import pRelu,Elu,LeakyRelu"
   ]
  },
  {
   "cell_type": "code",
   "execution_count": 19,
   "id": "651d9659",
   "metadata": {},
   "outputs": [],
   "source": [
    "# creating a empty neural network\n",
    "model = Sequential()"
   ]
  },
  {
   "cell_type": "code",
   "execution_count": 20,
   "id": "2cf3a2e3",
   "metadata": {},
   "outputs": [],
   "source": [
    "# adding a 6 neurons using he_uniform works with relu activation function and my \n",
    "# input of 11 features\n",
    "model.add(Dense(units=6,kernel_initializer='he_normal'\n",
    "                ,activation='relu',input_dim=11))"
   ]
  },
  {
   "cell_type": "code",
   "execution_count": 21,
   "id": "fac29d14",
   "metadata": {},
   "outputs": [],
   "source": [
    "# first hidden layer\n",
    "model.add(Dense(units=10,kernel_initializer='he_normal'\n",
    "                ,activation='relu',input_dim=11))"
   ]
  },
  {
   "cell_type": "code",
   "execution_count": 22,
   "id": "11c91d39",
   "metadata": {},
   "outputs": [],
   "source": [
    "# Second hidden layer\n",
    "model.add(Dense(units=20,kernel_initializer='he_normal',activation='relu'))"
   ]
  },
  {
   "cell_type": "code",
   "execution_count": 23,
   "id": "f01853d3",
   "metadata": {},
   "outputs": [],
   "source": [
    "# third hidden layer\n",
    "model.add(Dense(units=15,kernel_initializer='he_normal',activation='relu'))"
   ]
  },
  {
   "cell_type": "code",
   "execution_count": 24,
   "id": "b58b655e",
   "metadata": {},
   "outputs": [],
   "source": [
    "# giving a final layer\n",
    "model.add(Dense(units=1,kernel_initializer='glorot_uniform',activation='sigmoid'))"
   ]
  },
  {
   "cell_type": "code",
   "execution_count": 25,
   "id": "e871e1cd",
   "metadata": {},
   "outputs": [],
   "source": [
    "model.compile(optimizer='adam',loss='binary_crossentropy',metrics=['accuracy'])"
   ]
  },
  {
   "cell_type": "code",
   "execution_count": 26,
   "id": "0af8435e",
   "metadata": {},
   "outputs": [
    {
     "name": "stdout",
     "output_type": "stream",
     "text": [
      "Model: \"sequential\"\n",
      "_________________________________________________________________\n",
      " Layer (type)                Output Shape              Param #   \n",
      "=================================================================\n",
      " dense (Dense)               (None, 6)                 72        \n",
      "                                                                 \n",
      " dense_1 (Dense)             (None, 10)                70        \n",
      "                                                                 \n",
      " dense_2 (Dense)             (None, 20)                220       \n",
      "                                                                 \n",
      " dense_3 (Dense)             (None, 15)                315       \n",
      "                                                                 \n",
      " dense_4 (Dense)             (None, 1)                 16        \n",
      "                                                                 \n",
      "=================================================================\n",
      "Total params: 693\n",
      "Trainable params: 693\n",
      "Non-trainable params: 0\n",
      "_________________________________________________________________\n"
     ]
    }
   ],
   "source": [
    "model.summary()"
   ]
  },
  {
   "cell_type": "code",
   "execution_count": 27,
   "id": "060dd06c",
   "metadata": {
    "scrolled": true
   },
   "outputs": [
    {
     "name": "stdout",
     "output_type": "stream",
     "text": [
      "Epoch 1/100\n",
      "536/536 [==============================] - 2s 2ms/step - loss: 0.5268 - accuracy: 0.7914 - val_loss: 0.4960 - val_accuracy: 0.7948\n",
      "Epoch 2/100\n",
      "536/536 [==============================] - 1s 2ms/step - loss: 0.4775 - accuracy: 0.7975 - val_loss: 0.4675 - val_accuracy: 0.8001\n",
      "Epoch 3/100\n",
      "536/536 [==============================] - 1s 1ms/step - loss: 0.4404 - accuracy: 0.8044 - val_loss: 0.4261 - val_accuracy: 0.8122\n",
      "Epoch 4/100\n",
      "536/536 [==============================] - 1s 2ms/step - loss: 0.4004 - accuracy: 0.8210 - val_loss: 0.3900 - val_accuracy: 0.8311\n",
      "Epoch 5/100\n",
      "536/536 [==============================] - 1s 1ms/step - loss: 0.3774 - accuracy: 0.8442 - val_loss: 0.3807 - val_accuracy: 0.8387\n",
      "Epoch 6/100\n",
      "536/536 [==============================] - 1s 2ms/step - loss: 0.3716 - accuracy: 0.8461 - val_loss: 0.3857 - val_accuracy: 0.8364\n",
      "Epoch 7/100\n",
      "536/536 [==============================] - 1s 2ms/step - loss: 0.3660 - accuracy: 0.8474 - val_loss: 0.3854 - val_accuracy: 0.8300\n",
      "Epoch 8/100\n",
      "536/536 [==============================] - 1s 2ms/step - loss: 0.3640 - accuracy: 0.8483 - val_loss: 0.3744 - val_accuracy: 0.8501\n",
      "Epoch 9/100\n",
      "536/536 [==============================] - 1s 2ms/step - loss: 0.3621 - accuracy: 0.8457 - val_loss: 0.3702 - val_accuracy: 0.8531\n",
      "Epoch 10/100\n",
      "536/536 [==============================] - 1s 2ms/step - loss: 0.3595 - accuracy: 0.8472 - val_loss: 0.3696 - val_accuracy: 0.8440\n",
      "Epoch 11/100\n",
      "536/536 [==============================] - 1s 2ms/step - loss: 0.3585 - accuracy: 0.8498 - val_loss: 0.3689 - val_accuracy: 0.8474\n",
      "Epoch 12/100\n",
      "536/536 [==============================] - 1s 2ms/step - loss: 0.3583 - accuracy: 0.8503 - val_loss: 0.3669 - val_accuracy: 0.8448\n",
      "Epoch 13/100\n",
      "536/536 [==============================] - 1s 2ms/step - loss: 0.3576 - accuracy: 0.8489 - val_loss: 0.3659 - val_accuracy: 0.8538\n",
      "Epoch 14/100\n",
      "536/536 [==============================] - 1s 2ms/step - loss: 0.3554 - accuracy: 0.8502 - val_loss: 0.3645 - val_accuracy: 0.8550\n",
      "Epoch 15/100\n",
      "536/536 [==============================] - 1s 2ms/step - loss: 0.3549 - accuracy: 0.8524 - val_loss: 0.3646 - val_accuracy: 0.8527\n",
      "Epoch 16/100\n",
      "536/536 [==============================] - 1s 2ms/step - loss: 0.3536 - accuracy: 0.8528 - val_loss: 0.3628 - val_accuracy: 0.8550\n",
      "Epoch 17/100\n",
      "536/536 [==============================] - 1s 1ms/step - loss: 0.3525 - accuracy: 0.8530 - val_loss: 0.3690 - val_accuracy: 0.8516\n",
      "Epoch 18/100\n",
      "536/536 [==============================] - 1s 2ms/step - loss: 0.3522 - accuracy: 0.8520 - val_loss: 0.3643 - val_accuracy: 0.8546\n",
      "Epoch 19/100\n",
      "536/536 [==============================] - 1s 1ms/step - loss: 0.3510 - accuracy: 0.8524 - val_loss: 0.3627 - val_accuracy: 0.8512\n",
      "Epoch 20/100\n",
      "536/536 [==============================] - 1s 2ms/step - loss: 0.3516 - accuracy: 0.8567 - val_loss: 0.3639 - val_accuracy: 0.8523\n",
      "Epoch 21/100\n",
      "536/536 [==============================] - 1s 2ms/step - loss: 0.3503 - accuracy: 0.8541 - val_loss: 0.3624 - val_accuracy: 0.8531\n",
      "Epoch 22/100\n",
      "536/536 [==============================] - 1s 1ms/step - loss: 0.3470 - accuracy: 0.8548 - val_loss: 0.3607 - val_accuracy: 0.8478\n",
      "Epoch 23/100\n",
      "536/536 [==============================] - 1s 2ms/step - loss: 0.3472 - accuracy: 0.8567 - val_loss: 0.3610 - val_accuracy: 0.8493\n",
      "Epoch 24/100\n",
      "536/536 [==============================] - 1s 1ms/step - loss: 0.3472 - accuracy: 0.8565 - val_loss: 0.3591 - val_accuracy: 0.8504\n",
      "Epoch 25/100\n",
      "536/536 [==============================] - 1s 2ms/step - loss: 0.3457 - accuracy: 0.8567 - val_loss: 0.3572 - val_accuracy: 0.8527\n",
      "Epoch 26/100\n",
      "536/536 [==============================] - 1s 2ms/step - loss: 0.3437 - accuracy: 0.8593 - val_loss: 0.3602 - val_accuracy: 0.8478\n",
      "Epoch 27/100\n",
      "536/536 [==============================] - 1s 2ms/step - loss: 0.3434 - accuracy: 0.8582 - val_loss: 0.3554 - val_accuracy: 0.8542\n",
      "Epoch 28/100\n",
      "536/536 [==============================] - 1s 2ms/step - loss: 0.3447 - accuracy: 0.8569 - val_loss: 0.3564 - val_accuracy: 0.8546\n",
      "Epoch 29/100\n",
      "536/536 [==============================] - 1s 2ms/step - loss: 0.3443 - accuracy: 0.8614 - val_loss: 0.3551 - val_accuracy: 0.8573\n",
      "Epoch 30/100\n",
      "536/536 [==============================] - 1s 2ms/step - loss: 0.3422 - accuracy: 0.8572 - val_loss: 0.3550 - val_accuracy: 0.8538\n",
      "Epoch 31/100\n",
      "536/536 [==============================] - 1s 2ms/step - loss: 0.3416 - accuracy: 0.8599 - val_loss: 0.3551 - val_accuracy: 0.8538\n",
      "Epoch 32/100\n",
      "536/536 [==============================] - 1s 2ms/step - loss: 0.3417 - accuracy: 0.8572 - val_loss: 0.3583 - val_accuracy: 0.8561\n",
      "Epoch 33/100\n",
      "536/536 [==============================] - 1s 2ms/step - loss: 0.3405 - accuracy: 0.8587 - val_loss: 0.3567 - val_accuracy: 0.8580\n",
      "Epoch 34/100\n",
      "536/536 [==============================] - 1s 2ms/step - loss: 0.3408 - accuracy: 0.8584 - val_loss: 0.3531 - val_accuracy: 0.8584\n",
      "Epoch 35/100\n",
      "536/536 [==============================] - 1s 2ms/step - loss: 0.3393 - accuracy: 0.8591 - val_loss: 0.3522 - val_accuracy: 0.8584\n",
      "Epoch 36/100\n",
      "536/536 [==============================] - 1s 2ms/step - loss: 0.3375 - accuracy: 0.8617 - val_loss: 0.3551 - val_accuracy: 0.8538\n",
      "Epoch 37/100\n",
      "536/536 [==============================] - 1s 2ms/step - loss: 0.3397 - accuracy: 0.8610 - val_loss: 0.3570 - val_accuracy: 0.8535\n",
      "Epoch 38/100\n",
      "536/536 [==============================] - 1s 2ms/step - loss: 0.3388 - accuracy: 0.8589 - val_loss: 0.3531 - val_accuracy: 0.8561\n",
      "Epoch 39/100\n",
      "536/536 [==============================] - 1s 2ms/step - loss: 0.3362 - accuracy: 0.8627 - val_loss: 0.3535 - val_accuracy: 0.8576\n",
      "Epoch 40/100\n",
      "536/536 [==============================] - 1s 2ms/step - loss: 0.3361 - accuracy: 0.8632 - val_loss: 0.3533 - val_accuracy: 0.8584\n",
      "Epoch 41/100\n",
      "536/536 [==============================] - 1s 2ms/step - loss: 0.3370 - accuracy: 0.8617 - val_loss: 0.3547 - val_accuracy: 0.8603\n",
      "Epoch 42/100\n",
      "536/536 [==============================] - 1s 2ms/step - loss: 0.3371 - accuracy: 0.8623 - val_loss: 0.3573 - val_accuracy: 0.8535\n",
      "Epoch 43/100\n",
      "536/536 [==============================] - 1s 2ms/step - loss: 0.3349 - accuracy: 0.8638 - val_loss: 0.3514 - val_accuracy: 0.8626\n",
      "Epoch 44/100\n",
      "536/536 [==============================] - 1s 2ms/step - loss: 0.3353 - accuracy: 0.8655 - val_loss: 0.3482 - val_accuracy: 0.8629\n",
      "Epoch 45/100\n",
      "536/536 [==============================] - 1s 2ms/step - loss: 0.3351 - accuracy: 0.8628 - val_loss: 0.3484 - val_accuracy: 0.8588\n",
      "Epoch 46/100\n",
      "536/536 [==============================] - 1s 2ms/step - loss: 0.3350 - accuracy: 0.8645 - val_loss: 0.3539 - val_accuracy: 0.8565\n",
      "Epoch 47/100\n",
      "536/536 [==============================] - 1s 2ms/step - loss: 0.3351 - accuracy: 0.8638 - val_loss: 0.3503 - val_accuracy: 0.8591\n",
      "Epoch 48/100\n",
      "536/536 [==============================] - 1s 2ms/step - loss: 0.3341 - accuracy: 0.8621 - val_loss: 0.3495 - val_accuracy: 0.8591\n",
      "Epoch 49/100\n",
      "536/536 [==============================] - 1s 2ms/step - loss: 0.3326 - accuracy: 0.8642 - val_loss: 0.3484 - val_accuracy: 0.8618\n",
      "Epoch 50/100\n",
      "536/536 [==============================] - 1s 2ms/step - loss: 0.3337 - accuracy: 0.8625 - val_loss: 0.3489 - val_accuracy: 0.8595\n",
      "Epoch 51/100\n",
      "536/536 [==============================] - 1s 2ms/step - loss: 0.3331 - accuracy: 0.8630 - val_loss: 0.3486 - val_accuracy: 0.8610\n",
      "Epoch 52/100\n",
      "536/536 [==============================] - 1s 2ms/step - loss: 0.3337 - accuracy: 0.8615 - val_loss: 0.3500 - val_accuracy: 0.8599\n",
      "Epoch 53/100\n",
      "536/536 [==============================] - 1s 2ms/step - loss: 0.3318 - accuracy: 0.8649 - val_loss: 0.3581 - val_accuracy: 0.8569\n",
      "Epoch 54/100\n",
      "536/536 [==============================] - 1s 2ms/step - loss: 0.3327 - accuracy: 0.8651 - val_loss: 0.3517 - val_accuracy: 0.8633\n",
      "Epoch 55/100\n",
      "536/536 [==============================] - 1s 2ms/step - loss: 0.3318 - accuracy: 0.8627 - val_loss: 0.3498 - val_accuracy: 0.8595\n",
      "Epoch 56/100\n",
      "536/536 [==============================] - 1s 2ms/step - loss: 0.3311 - accuracy: 0.8651 - val_loss: 0.3497 - val_accuracy: 0.8614\n",
      "Epoch 57/100\n",
      "536/536 [==============================] - 1s 2ms/step - loss: 0.3317 - accuracy: 0.8651 - val_loss: 0.3538 - val_accuracy: 0.8622\n"
     ]
    },
    {
     "name": "stdout",
     "output_type": "stream",
     "text": [
      "Epoch 58/100\n",
      "536/536 [==============================] - 1s 2ms/step - loss: 0.3322 - accuracy: 0.8645 - val_loss: 0.3499 - val_accuracy: 0.8626\n",
      "Epoch 59/100\n",
      "536/536 [==============================] - 1s 2ms/step - loss: 0.3304 - accuracy: 0.8642 - val_loss: 0.3616 - val_accuracy: 0.8519\n",
      "Epoch 60/100\n",
      "536/536 [==============================] - 1s 2ms/step - loss: 0.3317 - accuracy: 0.8617 - val_loss: 0.3504 - val_accuracy: 0.8633\n",
      "Epoch 61/100\n",
      "536/536 [==============================] - 1s 2ms/step - loss: 0.3308 - accuracy: 0.8660 - val_loss: 0.3480 - val_accuracy: 0.8603\n",
      "Epoch 62/100\n",
      "536/536 [==============================] - 1s 2ms/step - loss: 0.3306 - accuracy: 0.8666 - val_loss: 0.3470 - val_accuracy: 0.8629\n",
      "Epoch 63/100\n",
      "536/536 [==============================] - 1s 2ms/step - loss: 0.3291 - accuracy: 0.8653 - val_loss: 0.3537 - val_accuracy: 0.8603\n",
      "Epoch 64/100\n",
      "536/536 [==============================] - 1s 2ms/step - loss: 0.3302 - accuracy: 0.8627 - val_loss: 0.3508 - val_accuracy: 0.8595\n",
      "Epoch 65/100\n",
      "536/536 [==============================] - 1s 2ms/step - loss: 0.3288 - accuracy: 0.8649 - val_loss: 0.3515 - val_accuracy: 0.8629\n",
      "Epoch 66/100\n",
      "536/536 [==============================] - 1s 2ms/step - loss: 0.3290 - accuracy: 0.8658 - val_loss: 0.3513 - val_accuracy: 0.8629\n",
      "Epoch 67/100\n",
      "536/536 [==============================] - 1s 2ms/step - loss: 0.3289 - accuracy: 0.8664 - val_loss: 0.3565 - val_accuracy: 0.8626\n",
      "Epoch 68/100\n",
      "536/536 [==============================] - 1s 2ms/step - loss: 0.3285 - accuracy: 0.8647 - val_loss: 0.3522 - val_accuracy: 0.8610\n",
      "Epoch 69/100\n",
      "536/536 [==============================] - 1s 1ms/step - loss: 0.3296 - accuracy: 0.8668 - val_loss: 0.3531 - val_accuracy: 0.8584\n",
      "Epoch 70/100\n",
      "536/536 [==============================] - 1s 2ms/step - loss: 0.3281 - accuracy: 0.8651 - val_loss: 0.3531 - val_accuracy: 0.8618\n",
      "Epoch 71/100\n",
      "536/536 [==============================] - 1s 2ms/step - loss: 0.3286 - accuracy: 0.8638 - val_loss: 0.3513 - val_accuracy: 0.8599\n",
      "Epoch 72/100\n",
      "536/536 [==============================] - 1s 2ms/step - loss: 0.3280 - accuracy: 0.8671 - val_loss: 0.3530 - val_accuracy: 0.8584\n",
      "Epoch 73/100\n",
      "536/536 [==============================] - 1s 1ms/step - loss: 0.3285 - accuracy: 0.8651 - val_loss: 0.3497 - val_accuracy: 0.8629\n",
      "Epoch 74/100\n",
      "536/536 [==============================] - 1s 2ms/step - loss: 0.3276 - accuracy: 0.8649 - val_loss: 0.3499 - val_accuracy: 0.8603\n",
      "Epoch 75/100\n",
      "536/536 [==============================] - 1s 2ms/step - loss: 0.3290 - accuracy: 0.8655 - val_loss: 0.3529 - val_accuracy: 0.8629\n",
      "Epoch 76/100\n",
      "536/536 [==============================] - 1s 2ms/step - loss: 0.3280 - accuracy: 0.8645 - val_loss: 0.3575 - val_accuracy: 0.8614\n",
      "Epoch 77/100\n",
      "536/536 [==============================] - 1s 2ms/step - loss: 0.3280 - accuracy: 0.8666 - val_loss: 0.3533 - val_accuracy: 0.8637\n",
      "Epoch 78/100\n",
      "536/536 [==============================] - 1s 2ms/step - loss: 0.3271 - accuracy: 0.8671 - val_loss: 0.3541 - val_accuracy: 0.8576\n",
      "Epoch 79/100\n",
      "536/536 [==============================] - 1s 2ms/step - loss: 0.3262 - accuracy: 0.8677 - val_loss: 0.3526 - val_accuracy: 0.8580\n",
      "Epoch 80/100\n",
      "536/536 [==============================] - 1s 2ms/step - loss: 0.3277 - accuracy: 0.8656 - val_loss: 0.3522 - val_accuracy: 0.8591\n",
      "Epoch 81/100\n",
      "536/536 [==============================] - 1s 2ms/step - loss: 0.3257 - accuracy: 0.8670 - val_loss: 0.3549 - val_accuracy: 0.8626\n",
      "Epoch 82/100\n",
      "536/536 [==============================] - 1s 2ms/step - loss: 0.3256 - accuracy: 0.8662 - val_loss: 0.3528 - val_accuracy: 0.8622\n",
      "Epoch 83/100\n",
      "536/536 [==============================] - 1s 2ms/step - loss: 0.3256 - accuracy: 0.8664 - val_loss: 0.3547 - val_accuracy: 0.8595\n",
      "Epoch 84/100\n",
      "536/536 [==============================] - 1s 2ms/step - loss: 0.3266 - accuracy: 0.8681 - val_loss: 0.3521 - val_accuracy: 0.8618\n",
      "Epoch 85/100\n",
      "536/536 [==============================] - 1s 2ms/step - loss: 0.3250 - accuracy: 0.8670 - val_loss: 0.3513 - val_accuracy: 0.8599\n",
      "Epoch 86/100\n",
      "536/536 [==============================] - 1s 2ms/step - loss: 0.3261 - accuracy: 0.8662 - val_loss: 0.3533 - val_accuracy: 0.8607\n",
      "Epoch 87/100\n",
      "536/536 [==============================] - 1s 2ms/step - loss: 0.3242 - accuracy: 0.8714 - val_loss: 0.3601 - val_accuracy: 0.8603\n",
      "Epoch 88/100\n",
      "536/536 [==============================] - 1s 2ms/step - loss: 0.3260 - accuracy: 0.8649 - val_loss: 0.3554 - val_accuracy: 0.8618\n",
      "Epoch 89/100\n",
      "536/536 [==============================] - 1s 2ms/step - loss: 0.3248 - accuracy: 0.8686 - val_loss: 0.3541 - val_accuracy: 0.8591\n",
      "Epoch 90/100\n",
      "536/536 [==============================] - 1s 2ms/step - loss: 0.3238 - accuracy: 0.8666 - val_loss: 0.3531 - val_accuracy: 0.8618\n",
      "Epoch 91/100\n",
      "536/536 [==============================] - 1s 2ms/step - loss: 0.3256 - accuracy: 0.8664 - val_loss: 0.3557 - val_accuracy: 0.8607\n",
      "Epoch 92/100\n",
      "536/536 [==============================] - 1s 2ms/step - loss: 0.3247 - accuracy: 0.8684 - val_loss: 0.3504 - val_accuracy: 0.8637\n",
      "Epoch 93/100\n",
      "536/536 [==============================] - 1s 1ms/step - loss: 0.3243 - accuracy: 0.8649 - val_loss: 0.3529 - val_accuracy: 0.8626\n",
      "Epoch 94/100\n",
      "536/536 [==============================] - 1s 2ms/step - loss: 0.3237 - accuracy: 0.8683 - val_loss: 0.3584 - val_accuracy: 0.8641\n",
      "Epoch 95/100\n",
      "536/536 [==============================] - 1s 2ms/step - loss: 0.3242 - accuracy: 0.8668 - val_loss: 0.3568 - val_accuracy: 0.8607\n",
      "Epoch 96/100\n",
      "536/536 [==============================] - 1s 2ms/step - loss: 0.3238 - accuracy: 0.8714 - val_loss: 0.3559 - val_accuracy: 0.8576\n",
      "Epoch 97/100\n",
      "536/536 [==============================] - 1s 2ms/step - loss: 0.3224 - accuracy: 0.8677 - val_loss: 0.3551 - val_accuracy: 0.8595\n",
      "Epoch 98/100\n",
      "536/536 [==============================] - 1s 2ms/step - loss: 0.3235 - accuracy: 0.8655 - val_loss: 0.3558 - val_accuracy: 0.8588\n",
      "Epoch 99/100\n",
      "536/536 [==============================] - 1s 2ms/step - loss: 0.3226 - accuracy: 0.8699 - val_loss: 0.3555 - val_accuracy: 0.8561\n",
      "Epoch 100/100\n",
      "536/536 [==============================] - 1s 2ms/step - loss: 0.3237 - accuracy: 0.8673 - val_loss: 0.3536 - val_accuracy: 0.8626\n"
     ]
    }
   ],
   "source": [
    "neural_network = model.fit(x_train,y_train,validation_split=0.33,batch_size=10,epochs=100)"
   ]
  },
  {
   "cell_type": "code",
   "execution_count": 28,
   "id": "b4536a16",
   "metadata": {},
   "outputs": [
    {
     "name": "stdout",
     "output_type": "stream",
     "text": [
      "63/63 [==============================] - 0s 791us/step\n"
     ]
    }
   ],
   "source": [
    "y_pred = model.predict(x_test)"
   ]
  },
  {
   "cell_type": "code",
   "execution_count": 29,
   "id": "cf302b87",
   "metadata": {},
   "outputs": [],
   "source": [
    "y_npred = (y_pred>0.5)"
   ]
  },
  {
   "cell_type": "code",
   "execution_count": 30,
   "id": "a4f6f6a8",
   "metadata": {},
   "outputs": [],
   "source": [
    "from sklearn.metrics import confusion_matrix,accuracy_score\n",
    "cm = confusion_matrix(y_test,y_npred)"
   ]
  },
  {
   "cell_type": "code",
   "execution_count": 31,
   "id": "d7ff7b66",
   "metadata": {},
   "outputs": [
    {
     "data": {
      "text/plain": [
       "array([[1519,   62],\n",
       "       [ 233,  186]], dtype=int64)"
      ]
     },
     "execution_count": 31,
     "metadata": {},
     "output_type": "execute_result"
    }
   ],
   "source": [
    "cm"
   ]
  },
  {
   "cell_type": "code",
   "execution_count": 32,
   "id": "cf73b3c2",
   "metadata": {},
   "outputs": [],
   "source": [
    "score = accuracy_score(y_npred,y_test)"
   ]
  },
  {
   "cell_type": "code",
   "execution_count": 33,
   "id": "66ca689a",
   "metadata": {},
   "outputs": [
    {
     "data": {
      "text/plain": [
       "0.8525"
      ]
     },
     "execution_count": 33,
     "metadata": {},
     "output_type": "execute_result"
    }
   ],
   "source": [
    "score"
   ]
  },
  {
   "cell_type": "code",
   "execution_count": 34,
   "id": "6d496fce",
   "metadata": {},
   "outputs": [
    {
     "data": {
      "text/plain": [
       "<keras.callbacks.History at 0x2824c927b80>"
      ]
     },
     "execution_count": 34,
     "metadata": {},
     "output_type": "execute_result"
    }
   ],
   "source": [
    "neural_network"
   ]
  },
  {
   "cell_type": "code",
   "execution_count": 35,
   "id": "0be1ad05",
   "metadata": {},
   "outputs": [
    {
     "data": {
      "text/plain": [
       "{'loss': [0.5268227458000183,\n",
       "  0.4774627983570099,\n",
       "  0.4403679072856903,\n",
       "  0.4003816545009613,\n",
       "  0.3774307370185852,\n",
       "  0.37156811356544495,\n",
       "  0.3659646511077881,\n",
       "  0.3640158772468567,\n",
       "  0.362130731344223,\n",
       "  0.359512060880661,\n",
       "  0.35846033692359924,\n",
       "  0.3583051860332489,\n",
       "  0.3576073944568634,\n",
       "  0.35539495944976807,\n",
       "  0.35489654541015625,\n",
       "  0.35361310839653015,\n",
       "  0.352525919675827,\n",
       "  0.35223376750946045,\n",
       "  0.35101115703582764,\n",
       "  0.35164451599121094,\n",
       "  0.3502574563026428,\n",
       "  0.34701380133628845,\n",
       "  0.34722432494163513,\n",
       "  0.34715157747268677,\n",
       "  0.3457328975200653,\n",
       "  0.34372276067733765,\n",
       "  0.3434375822544098,\n",
       "  0.34474003314971924,\n",
       "  0.3442689776420593,\n",
       "  0.3421926200389862,\n",
       "  0.3415732681751251,\n",
       "  0.34165263175964355,\n",
       "  0.3404673933982849,\n",
       "  0.34075725078582764,\n",
       "  0.33931484818458557,\n",
       "  0.33748820424079895,\n",
       "  0.33966222405433655,\n",
       "  0.3388434648513794,\n",
       "  0.33618292212486267,\n",
       "  0.3361060321331024,\n",
       "  0.3370189666748047,\n",
       "  0.33710190653800964,\n",
       "  0.3349408507347107,\n",
       "  0.3353433310985565,\n",
       "  0.33509793877601624,\n",
       "  0.3349936604499817,\n",
       "  0.335126668214798,\n",
       "  0.3341151177883148,\n",
       "  0.332570880651474,\n",
       "  0.33369460701942444,\n",
       "  0.3330744504928589,\n",
       "  0.3336915969848633,\n",
       "  0.3317564129829407,\n",
       "  0.3327363431453705,\n",
       "  0.33178773522377014,\n",
       "  0.33111757040023804,\n",
       "  0.3317321240901947,\n",
       "  0.3322050869464874,\n",
       "  0.3304089307785034,\n",
       "  0.3317164480686188,\n",
       "  0.33076488971710205,\n",
       "  0.3306485116481781,\n",
       "  0.32906776666641235,\n",
       "  0.330234169960022,\n",
       "  0.32878509163856506,\n",
       "  0.3289829194545746,\n",
       "  0.32891950011253357,\n",
       "  0.3284732699394226,\n",
       "  0.3295675218105316,\n",
       "  0.3280889093875885,\n",
       "  0.32858607172966003,\n",
       "  0.3280412554740906,\n",
       "  0.32846078276634216,\n",
       "  0.3275715410709381,\n",
       "  0.328974187374115,\n",
       "  0.32801294326782227,\n",
       "  0.32795947790145874,\n",
       "  0.32714903354644775,\n",
       "  0.3261566162109375,\n",
       "  0.32770150899887085,\n",
       "  0.3257095515727997,\n",
       "  0.32558968663215637,\n",
       "  0.32558098435401917,\n",
       "  0.32661280035972595,\n",
       "  0.3250388503074646,\n",
       "  0.3260602653026581,\n",
       "  0.3242027163505554,\n",
       "  0.3259612023830414,\n",
       "  0.32476675510406494,\n",
       "  0.3237574100494385,\n",
       "  0.32558292150497437,\n",
       "  0.3246992826461792,\n",
       "  0.324300616979599,\n",
       "  0.32366859912872314,\n",
       "  0.32420217990875244,\n",
       "  0.32376766204833984,\n",
       "  0.32238566875457764,\n",
       "  0.3234618306159973,\n",
       "  0.322648286819458,\n",
       "  0.32368847727775574],\n",
       " 'accuracy': [0.7913789749145508,\n",
       "  0.7975368499755859,\n",
       "  0.8044411540031433,\n",
       "  0.8210486769676208,\n",
       "  0.844187319278717,\n",
       "  0.8460533618927002,\n",
       "  0.8473595976829529,\n",
       "  0.8482925891876221,\n",
       "  0.8456801772117615,\n",
       "  0.8471729755401611,\n",
       "  0.8497853875160217,\n",
       "  0.8503451943397522,\n",
       "  0.8488523960113525,\n",
       "  0.8501586318016052,\n",
       "  0.8523978590965271,\n",
       "  0.8527710437774658,\n",
       "  0.8529576659202576,\n",
       "  0.8520246148109436,\n",
       "  0.8523978590965271,\n",
       "  0.8566896915435791,\n",
       "  0.8540772795677185,\n",
       "  0.854823648929596,\n",
       "  0.8566896915435791,\n",
       "  0.8565030694007874,\n",
       "  0.8566896915435791,\n",
       "  0.8593021035194397,\n",
       "  0.8581824898719788,\n",
       "  0.8568762540817261,\n",
       "  0.8613547086715698,\n",
       "  0.8572494983673096,\n",
       "  0.8598619103431702,\n",
       "  0.8572494983673096,\n",
       "  0.8587422966957092,\n",
       "  0.8583691120147705,\n",
       "  0.859115481376648,\n",
       "  0.8617279529571533,\n",
       "  0.8609815239906311,\n",
       "  0.858928918838501,\n",
       "  0.8626609444618225,\n",
       "  0.863220751285553,\n",
       "  0.8617279529571533,\n",
       "  0.8622877597808838,\n",
       "  0.8637805581092834,\n",
       "  0.8654599785804749,\n",
       "  0.8628475666046143,\n",
       "  0.8645269870758057,\n",
       "  0.8637805581092834,\n",
       "  0.862101137638092,\n",
       "  0.8641537427902222,\n",
       "  0.8624743223190308,\n",
       "  0.8630341291427612,\n",
       "  0.8615413308143616,\n",
       "  0.8649001717567444,\n",
       "  0.8650867938995361,\n",
       "  0.8626609444618225,\n",
       "  0.8650867938995361,\n",
       "  0.8650867938995361,\n",
       "  0.8645269870758057,\n",
       "  0.8641537427902222,\n",
       "  0.8617279529571533,\n",
       "  0.8660197854042053,\n",
       "  0.8665795922279358,\n",
       "  0.8652733564376831,\n",
       "  0.8626609444618225,\n",
       "  0.8649001717567444,\n",
       "  0.8658331632614136,\n",
       "  0.866392970085144,\n",
       "  0.8647135496139526,\n",
       "  0.8667662143707275,\n",
       "  0.8650867938995361,\n",
       "  0.8637805581092834,\n",
       "  0.8671393990516663,\n",
       "  0.8650867938995361,\n",
       "  0.8649001717567444,\n",
       "  0.8654599785804749,\n",
       "  0.8645269870758057,\n",
       "  0.8665795922279358,\n",
       "  0.8671393990516663,\n",
       "  0.8676992058753967,\n",
       "  0.8656466007232666,\n",
       "  0.8669527769088745,\n",
       "  0.8662064075469971,\n",
       "  0.866392970085144,\n",
       "  0.8680723905563354,\n",
       "  0.8669527769088745,\n",
       "  0.8662064075469971,\n",
       "  0.8714312314987183,\n",
       "  0.8649001717567444,\n",
       "  0.8686321973800659,\n",
       "  0.8665795922279358,\n",
       "  0.866392970085144,\n",
       "  0.868445634841919,\n",
       "  0.8649001717567444,\n",
       "  0.8682590126991272,\n",
       "  0.8667662143707275,\n",
       "  0.8714312314987183,\n",
       "  0.8676992058753967,\n",
       "  0.8654599785804749,\n",
       "  0.8699384331703186,\n",
       "  0.867326021194458],\n",
       " 'val_loss': [0.4960241913795471,\n",
       "  0.46749499440193176,\n",
       "  0.42609846591949463,\n",
       "  0.3900025486946106,\n",
       "  0.38068386912345886,\n",
       "  0.3856848180294037,\n",
       "  0.3853767514228821,\n",
       "  0.3743774890899658,\n",
       "  0.3701867163181305,\n",
       "  0.36964327096939087,\n",
       "  0.3689350485801697,\n",
       "  0.3668577969074249,\n",
       "  0.36592206358909607,\n",
       "  0.36453354358673096,\n",
       "  0.36460837721824646,\n",
       "  0.3628387749195099,\n",
       "  0.3690406084060669,\n",
       "  0.36432600021362305,\n",
       "  0.36274516582489014,\n",
       "  0.3639005720615387,\n",
       "  0.3624088168144226,\n",
       "  0.36073699593544006,\n",
       "  0.36100441217422485,\n",
       "  0.3590805232524872,\n",
       "  0.35724565386772156,\n",
       "  0.3602001667022705,\n",
       "  0.3554203510284424,\n",
       "  0.35635262727737427,\n",
       "  0.3550955057144165,\n",
       "  0.3550412654876709,\n",
       "  0.3550754189491272,\n",
       "  0.3582642674446106,\n",
       "  0.356749951839447,\n",
       "  0.3530727028846741,\n",
       "  0.35219621658325195,\n",
       "  0.3550560772418976,\n",
       "  0.35704880952835083,\n",
       "  0.3530729115009308,\n",
       "  0.3535240888595581,\n",
       "  0.3532712161540985,\n",
       "  0.35468465089797974,\n",
       "  0.35727691650390625,\n",
       "  0.35142186284065247,\n",
       "  0.3481629490852356,\n",
       "  0.3483715057373047,\n",
       "  0.35386842489242554,\n",
       "  0.3502517342567444,\n",
       "  0.34949737787246704,\n",
       "  0.34839099645614624,\n",
       "  0.34886452555656433,\n",
       "  0.34856703877449036,\n",
       "  0.34998199343681335,\n",
       "  0.3580677807331085,\n",
       "  0.3516594469547272,\n",
       "  0.3497889041900635,\n",
       "  0.34967324137687683,\n",
       "  0.3537759482860565,\n",
       "  0.34987589716911316,\n",
       "  0.36159223318099976,\n",
       "  0.3504105508327484,\n",
       "  0.3479923605918884,\n",
       "  0.3469873070716858,\n",
       "  0.35373571515083313,\n",
       "  0.35076236724853516,\n",
       "  0.35145121812820435,\n",
       "  0.35128119587898254,\n",
       "  0.35648131370544434,\n",
       "  0.3522457182407379,\n",
       "  0.3531142771244049,\n",
       "  0.3530896306037903,\n",
       "  0.3512900173664093,\n",
       "  0.35304123163223267,\n",
       "  0.3497013747692108,\n",
       "  0.34991729259490967,\n",
       "  0.3528631329536438,\n",
       "  0.35754328966140747,\n",
       "  0.35330602526664734,\n",
       "  0.35414573550224304,\n",
       "  0.3526090383529663,\n",
       "  0.3522309362888336,\n",
       "  0.3549342155456543,\n",
       "  0.3528176248073578,\n",
       "  0.35469186305999756,\n",
       "  0.3520844876766205,\n",
       "  0.35129958391189575,\n",
       "  0.35328078269958496,\n",
       "  0.36008474230766296,\n",
       "  0.3554418385028839,\n",
       "  0.3541140854358673,\n",
       "  0.35310930013656616,\n",
       "  0.35566091537475586,\n",
       "  0.35041216015815735,\n",
       "  0.35287466645240784,\n",
       "  0.35842570662498474,\n",
       "  0.3568122982978821,\n",
       "  0.355876624584198,\n",
       "  0.35507655143737793,\n",
       "  0.3557707965373993,\n",
       "  0.35548901557922363,\n",
       "  0.3535991609096527],\n",
       " 'val_accuracy': [0.7947747111320496,\n",
       "  0.8000757098197937,\n",
       "  0.8121923804283142,\n",
       "  0.8311246037483215,\n",
       "  0.8386974334716797,\n",
       "  0.8364256024360657,\n",
       "  0.8299886584281921,\n",
       "  0.8500567674636841,\n",
       "  0.8530859351158142,\n",
       "  0.8439984917640686,\n",
       "  0.847406268119812,\n",
       "  0.8447557687759399,\n",
       "  0.8538432121276855,\n",
       "  0.8549791574478149,\n",
       "  0.8527073264122009,\n",
       "  0.8549791574478149,\n",
       "  0.8515713810920715,\n",
       "  0.8546005487442017,\n",
       "  0.8511927127838135,\n",
       "  0.8523286581039429,\n",
       "  0.8530859351158142,\n",
       "  0.8477849364280701,\n",
       "  0.8492994904518127,\n",
       "  0.8504354357719421,\n",
       "  0.8527073264122009,\n",
       "  0.8477849364280701,\n",
       "  0.8542218804359436,\n",
       "  0.8546005487442017,\n",
       "  0.8572510480880737,\n",
       "  0.8538432121276855,\n",
       "  0.8538432121276855,\n",
       "  0.8561151027679443,\n",
       "  0.8580083250999451,\n",
       "  0.8583869934082031,\n",
       "  0.8583869934082031,\n",
       "  0.8538432121276855,\n",
       "  0.8534646034240723,\n",
       "  0.8561151027679443,\n",
       "  0.857629656791687,\n",
       "  0.8583869934082031,\n",
       "  0.8602802157402039,\n",
       "  0.8534646034240723,\n",
       "  0.8625520467758179,\n",
       "  0.8629307150840759,\n",
       "  0.8587656021118164,\n",
       "  0.8564937710762024,\n",
       "  0.8591442704200745,\n",
       "  0.8591442704200745,\n",
       "  0.8617947697639465,\n",
       "  0.8595228791236877,\n",
       "  0.8610374927520752,\n",
       "  0.8599015474319458,\n",
       "  0.8568723797798157,\n",
       "  0.8633093237876892,\n",
       "  0.8595228791236877,\n",
       "  0.8614161014556885,\n",
       "  0.8621734380722046,\n",
       "  0.8625520467758179,\n",
       "  0.8519499897956848,\n",
       "  0.8633093237876892,\n",
       "  0.8602802157402039,\n",
       "  0.8629307150840759,\n",
       "  0.8602802157402039,\n",
       "  0.8595228791236877,\n",
       "  0.8629307150840759,\n",
       "  0.8629307150840759,\n",
       "  0.8625520467758179,\n",
       "  0.8610374927520752,\n",
       "  0.8583869934082031,\n",
       "  0.8617947697639465,\n",
       "  0.8599015474319458,\n",
       "  0.8583869934082031,\n",
       "  0.8629307150840759,\n",
       "  0.8602802157402039,\n",
       "  0.8629307150840759,\n",
       "  0.8614161014556885,\n",
       "  0.8636879920959473,\n",
       "  0.857629656791687,\n",
       "  0.8580083250999451,\n",
       "  0.8591442704200745,\n",
       "  0.8625520467758179,\n",
       "  0.8621734380722046,\n",
       "  0.8595228791236877,\n",
       "  0.8617947697639465,\n",
       "  0.8599015474319458,\n",
       "  0.8606588244438171,\n",
       "  0.8602802157402039,\n",
       "  0.8617947697639465,\n",
       "  0.8591442704200745,\n",
       "  0.8617947697639465,\n",
       "  0.8606588244438171,\n",
       "  0.8636879920959473,\n",
       "  0.8625520467758179,\n",
       "  0.8640666604042053,\n",
       "  0.8606588244438171,\n",
       "  0.857629656791687,\n",
       "  0.8595228791236877,\n",
       "  0.8587656021118164,\n",
       "  0.8561151027679443,\n",
       "  0.8625520467758179]}"
      ]
     },
     "execution_count": 35,
     "metadata": {},
     "output_type": "execute_result"
    }
   ],
   "source": [
    "neural_network.history"
   ]
  },
  {
   "cell_type": "code",
   "execution_count": 36,
   "id": "18b0aae6",
   "metadata": {},
   "outputs": [
    {
     "data": {
      "text/plain": [
       "dict_keys(['loss', 'accuracy', 'val_loss', 'val_accuracy'])"
      ]
     },
     "execution_count": 36,
     "metadata": {},
     "output_type": "execute_result"
    }
   ],
   "source": [
    "neural_network.history.keys()"
   ]
  },
  {
   "cell_type": "code",
   "execution_count": 37,
   "id": "9a9d1dc8",
   "metadata": {},
   "outputs": [],
   "source": [
    "nna= neural_network.history['accuracy']\n",
    "nnva = neural_network.history['val_accuracy']"
   ]
  },
  {
   "cell_type": "code",
   "execution_count": 38,
   "id": "6a419a7d",
   "metadata": {},
   "outputs": [
    {
     "data": {
      "text/plain": [
       "<matplotlib.legend.Legend at 0x2824dc826e0>"
      ]
     },
     "execution_count": 38,
     "metadata": {},
     "output_type": "execute_result"
    },
    {
     "data": {
      "image/png": "[encoded data removed]",
      "text/plain": [
       "<Figure size 640x480 with 1 Axes>"
      ]
     },
     "metadata": {},
     "output_type": "display_data"
    }
   ],
   "source": [
    "plt.plot(nna)\n",
    "plt.plot(nnva)\n",
    "plt.title('Model Accuracy',pad=20)\n",
    "plt.ylabel(\"Accuracy\")\n",
    "plt.xlabel('Epoch')\n",
    "plt.legend(['train','test'],loc='upper left')"
   ]
  },
  {
   "cell_type": "code",
   "execution_count": 39,
   "id": "61df5e12",
   "metadata": {},
   "outputs": [],
   "source": [
    "from tensorflow.keras.wrappers.scikit_learn import KerasClassifier\n",
    "from sklearn.model_selection import GridSearchCV"
   ]
  },
  {
   "cell_type": "code",
   "execution_count": 40,
   "id": "5d24c45f",
   "metadata": {},
   "outputs": [],
   "source": [
    "from keras.layers import Dense,Activation,Embedding,Flatten,LeakyReLU,BatchNormalization\n",
    "from keras.activations import relu,sigmoid"
   ]
  },
  {
   "cell_type": "code",
   "execution_count": 41,
   "id": "480c2331",
   "metadata": {},
   "outputs": [],
   "source": [
    "def create_model(layers,activation):\n",
    "    model =Sequential()\n",
    "    for i , nodes in enumerate(layers):\n",
    "        if i==0:\n",
    "            model.add(Dense(nodes,input_dim=x_train.shape[1]))\n",
    "            model.add(Activation(activation))\n",
    "            model.add(Dropout(0.3))\n",
    "        else:\n",
    "            model.add(Dense(nodes))\n",
    "            model.add(Activation(activation))\n",
    "            model.add(Dropout(0.3))\n",
    "        model.add(Dense(units=1,kernel_initializer='glorot_uniform',activation='sigmoid'))\n",
    "        model.compile(optimizer='adam',loss='binary_crossentropy',metrics='accuracy')\n",
    "        return model\n",
    "            "
   ]
  },
  {
   "cell_type": "code",
   "execution_count": 42,
   "id": "99849796",
   "metadata": {},
   "outputs": [
    {
     "name": "stderr",
     "output_type": "stream",
     "text": [
      "C:\\Users\\yogeswarvenkatsai\\AppData\\Local\\Temp\\ipykernel_15328\\2246426747.py:1: DeprecationWarning: KerasClassifier is deprecated, use Sci-Keras (https://github.com/adriangb/scikeras) instead. See https://www.adriangb.com/scikeras/stable/migration.html for help migrating.\n",
      "  model = KerasClassifier(build_fn=create_model,verbose=0)\n"
     ]
    }
   ],
   "source": [
    "model = KerasClassifier(build_fn=create_model,verbose=0)"
   ]
  },
  {
   "cell_type": "code",
   "execution_count": 43,
   "id": "bd95be02",
   "metadata": {},
   "outputs": [],
   "source": [
    "layers = [[20],[40,30],[40,20],[45,30,15],[30,30,30]]\n",
    "activation = ['relu','sigmoid']\n",
    "para_grid = dict(layers=layers,activation=activation,batch_size=[128,256],epochs=[100])"
   ]
  },
  {
   "cell_type": "code",
   "execution_count": 44,
   "id": "e1bfdb32",
   "metadata": {},
   "outputs": [],
   "source": [
    "grid = GridSearchCV(estimator=model,param_grid=para_grid,cv=5)"
   ]
  },
  {
   "cell_type": "code",
   "execution_count": null,
   "id": "65085ef8",
   "metadata": {},
   "outputs": [],
   "source": [
    "grid_result = grid.fit(x_train,y_train)"
   ]
  },
  {
   "cell_type": "code",
   "execution_count": null,
   "id": "a339facd",
   "metadata": {},
   "outputs": [],
   "source": [
    "pred_y = grid.predict(x_test)\n",
    "cm = confusion_matrix((pred_y>0.5),y_test)\n",
    "score = accuracy_score((pred_y>0.5),y_test)"
   ]
  },
  {
   "cell_type": "code",
   "execution_count": null,
   "id": "09f41625",
   "metadata": {},
   "outputs": [],
   "source": [
    "score"
   ]
  },
  {
   "cell_type": "code",
   "execution_count": null,
   "id": "10bc80e0",
   "metadata": {},
   "outputs": [],
   "source": [
    "print(grid_result.best_score_,grid_result.best_params_)"
   ]
  },
  {
   "cell_type": "code",
   "execution_count": null,
   "id": "89b85844",
   "metadata": {},
   "outputs": [],
   "source": [
    "nn = create_model([45,30,15],'relu')"
   ]
  },
  {
   "cell_type": "code",
   "execution_count": null,
   "id": "2acd1160",
   "metadata": {},
   "outputs": [],
   "source": [
    "nn.fit(x_train,y_train,epochs=100,batch_size=128)"
   ]
  },
  {
   "cell_type": "code",
   "execution_count": null,
   "id": "81d3a67c",
   "metadata": {},
   "outputs": [],
   "source": [
    "py= nn.predict(x_test)"
   ]
  },
  {
   "cell_type": "code",
   "execution_count": null,
   "id": "75ab042c",
   "metadata": {},
   "outputs": [],
   "source": [
    "accuracy_score((py>0.5),y_test)"
   ]
  },
  {
   "cell_type": "code",
   "execution_count": null,
   "id": "5ddb2340",
   "metadata": {},
   "outputs": [],
   "source": []
  }
 ],
 "metadata": {
  "kernelspec": {
   "display_name": "Python 3 (ipykernel)",
   "language": "python",
   "name": "python3"
  },
  "language_info": {
   "codemirror_mode": {
    "name": "ipython",
    "version": 3
   },
   "file_extension": ".py",
   "mimetype": "text/x-python",
   "name": "python",
   "nbconvert_exporter": "python",
   "pygments_lexer": "ipython3",
   "version": "3.10.5"
  }
 },
 "nbformat": 4,
 "nbformat_minor": 5
}
